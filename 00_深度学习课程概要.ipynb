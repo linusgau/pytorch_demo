{
  "nbformat": 4,
  "nbformat_minor": 0,
  "metadata": {
    "colab": {
      "name": "01 .ipynb",
      "provenance": [],
      "collapsed_sections": [],
      "authorship_tag": "ABX9TyMrZJIqJBMv5vb+N8spZqYB",
      "include_colab_link": true
    },
    "kernelspec": {
      "name": "python3",
      "display_name": "Python 3"
    }
  },
  "cells": [
    {
      "cell_type": "markdown",
      "metadata": {
        "id": "view-in-github",
        "colab_type": "text"
      },
      "source": [
        "<a href=\"https://colab.research.google.com/github/linusgau/pytorch_demo/blob/master/00_%E6%B7%B1%E5%BA%A6%E5%AD%A6%E4%B9%A0%E8%AF%BE%E7%A8%8B%E6%A6%82%E8%A6%81.ipynb\" target=\"_parent\"><img src=\"https://colab.research.google.com/assets/colab-badge.svg\" alt=\"Open In Colab\"/></a>"
      ]
    },
    {
      "cell_type": "markdown",
      "metadata": {
        "id": "amdsq3DpZlnr",
        "colab_type": "text"
      },
      "source": [
        "# 深度学习模型入门\n",
        "\n",
        "什么是机器学习？\n",
        "\n",
        "Study of algorithms that\n",
        "\n",
        "- improve their performance P\n",
        "- at some task T\n",
        "- with experience E\n",
        "\n",
        "well-defined learning task: <P, T, E>\n",
        "\n",
        "## 01 Modeling, Inference, Learning\n",
        "\n",
        "\n",
        "<font color=#0f0>inference: solve</font> argmax       <font color=#00f>modeling: define</font> score <font color=#00f>function</font>\n",
        "\n",
        "classify($x, w$)=$\\mathop {\\arg \\max }\\limits_y $ score($x$, y, $w$)\n",
        "\n",
        "---> learning: choose $w$\n",
        "\n",
        "## 02 用pytorch构建深度学习模型\n",
        "\n",
        "\n",
        "### 深度学习模型框架概览\n",
        "TensorFlow/mxnet/pytorch/caffe/keras/ $\\alpha$ y/net\n",
        "\n",
        "### Pytorch 和其他框架作对比\n",
        "\n",
        "- pytorch: Dynamic Computation Graph（动态计算图）\n",
        "- Tensorflow： Static Computation Graph（静态计算图）\n",
        "\n",
        "### pytorch可以做什么\n",
        "\n",
        "Model = Architecture + Parameters\n",
        "\n",
        "## pytorch 项目\n",
        "\n",
        "- 图像分类 Resnet \n",
        "\n",
        "  https://github.com/floydhub/imagenet\n",
        "\n",
        "- Object Detection\n",
        "\n",
        "  https://github.com/amdegroot/ssd.pytorch\n",
        "\n",
        "- Image Style Transfer\n",
        "\n",
        "  https://github.com/zhanghang1989/PyTorch-Multi-Style-Transfer\n",
        "\n",
        "- CycleGAN\n",
        "\n",
        "  https://github.com/junyanz/pytorch-CycleGAN-and-pix2pix\n",
        "\n",
        "- Image Captioning\n",
        "\n",
        "   https://github.com/ruotianluo/ImageCaptioning.pytorch\n",
        "\n",
        "- 情感分析\n",
        "\n",
        "  https://github.com/bentrevett/pytorch-sentiment-analysis\n",
        "\n",
        "\n",
        "- Question Answering(问答系统）\n",
        "\n",
        "  https://github.com/allenai/document-qa\n",
        "\n",
        "- Translation： OpenNMT-py\n",
        "\n",
        "  https://github.com/OpenNMT/OpenNMT-py\n",
        "\n",
        "- ChatBot\n",
        "\n",
        "  https://github.com/czs0x55zz/pytorch-chatbot\n",
        "\n",
        "  https://github.com/zhaoyingjun/chatbot\n",
        "\n",
        "- Deep Reinforcement Learning\n",
        "\n",
        "  https://github.com/jingweiz/pytorch-rl\n",
        "\n",
        "  https://pytorch.org/tutorials/intermediate/reinforcement_q_learning.html\n",
        "\n",
        "\n",
        "- 预训练语言模型GPT2\n",
        "\n",
        "\n",
        "\n",
        "\n",
        "## 如何成为PyTorch大神？\n",
        "- 学好深度学习的基础知识\n",
        "- 学习PyTorch官方tutorial学习\n",
        "- GitHub以及各种博客上的教程（别人创建好的list）\n",
        "- 阅读documentation，使用论坛https://discuss.pytorch.org/\n",
        "- 跑通以及学习开源Py Torch项目\n",
        "- 阅读深度学习模型paper，学习别人的模型实现\n",
        "- 通过阅读paper，自己实现模型\n",
        "- 自己创造模型（也可以写paper）\n",
        "\n",
        "\n",
        "## 课程安排\n",
        "- PyTorch框架与autograd入门，简单前向神经网络\n",
        "- 词向量\n",
        "- 图像分类，CNN，迁移学习\n",
        "- 语言模型，情感分类，RNN，LSTM，GRU\n",
        "- 翻译模型，Seq2Seq，Attention\n",
        "- 阅读理解，EIMo，BERT，GPT-2\n",
        "- 聊天机器人\n",
        "- GAN，Face generation，Style Transfer"
      ]
    },
    {
      "cell_type": "markdown",
      "metadata": {
        "id": "PQ5xT2jOnPqv",
        "colab_type": "text"
      },
      "source": [
        ""
      ]
    },
    {
      "cell_type": "code",
      "metadata": {
        "id": "cqzNmivL6iNR",
        "colab_type": "code",
        "colab": {}
      },
      "source": [
        ""
      ],
      "execution_count": 0,
      "outputs": []
    },
    {
      "cell_type": "code",
      "metadata": {
        "id": "qHCYiuyR6n66",
        "colab_type": "code",
        "colab": {}
      },
      "source": [
        ""
      ],
      "execution_count": 0,
      "outputs": []
    },
    {
      "cell_type": "code",
      "metadata": {
        "id": "QfLlXDb48-T9",
        "colab_type": "code",
        "colab": {}
      },
      "source": [
        ""
      ],
      "execution_count": 0,
      "outputs": []
    },
    {
      "cell_type": "code",
      "metadata": {
        "id": "T4doQq2A9AKv",
        "colab_type": "code",
        "colab": {}
      },
      "source": [
        ""
      ],
      "execution_count": 0,
      "outputs": []
    },
    {
      "cell_type": "code",
      "metadata": {
        "id": "SM2O2fys9MkS",
        "colab_type": "code",
        "colab": {}
      },
      "source": [
        ""
      ],
      "execution_count": 0,
      "outputs": []
    }
  ]
}